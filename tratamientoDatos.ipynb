{
 "cells": [
  {
   "cell_type": "code",
   "execution_count": 1,
   "metadata": {},
   "outputs": [
    {
     "name": "stdout",
     "output_type": "stream",
     "text": [
      "Fusión completada. Archivo exportado como 'steam_data.csv'\n"
     ]
    }
   ],
   "source": [
    "import pandas as pd\n",
    "\n",
    "# Rutas de los archivos\n",
    "steamGamesFile = \"./data/datasets/steam.csv\"\n",
    "steamGamesDescriptionFile = \"./data/datasets/steam_description_data.csv\"\n",
    "steamGamesImagesFile = \"./data/datasets/steam_media_data.csv\"\n",
    "steamTagDataFile = \"./data/datasets/steam_tag_data.csv\"\n",
    "\n",
    "# Cargar los datos\n",
    "steamGames = pd.read_csv(steamGamesFile)\n",
    "steamGamesDescription = pd.read_csv(steamGamesDescriptionFile)\n",
    "steamGamesImages = pd.read_csv(steamGamesImagesFile)\n",
    "steamTagData = pd.read_csv(steamTagDataFile)\n",
    "\n",
    "# Eliminar duplicados\n",
    "steamGames = steamGames.drop_duplicates(subset='appid')\n",
    "steamGamesDescription = steamGamesDescription.drop_duplicates(subset='steam_appid')\n",
    "steamGamesImages = steamGamesImages.drop_duplicates(subset='steam_appid')\n",
    "\n",
    "# Renombrar claves para alinearlas\n",
    "steamGamesDescription = steamGamesDescription.rename(columns={'steam_appid': 'appid'})\n",
    "steamGamesImages = steamGamesImages.rename(columns={'steam_appid': 'appid'})\n",
    "\n",
    "# Fusionar los datos\n",
    "merged_data = steamGames.merge(steamGamesDescription, on='appid', how='inner')\n",
    "merged_data = merged_data.merge(steamGamesImages, on='appid', how='inner')\n",
    "\n",
    "# Merge con el archivo de etiquetas\n",
    "merged_data = merged_data.merge(steamTagData, on='appid', how='left')\n",
    "\n",
    "# Filtrar las columnas necesarias\n",
    "steamGames = merged_data[['appid', 'name', 'categories', 'detailed_description', 'header_image', 'screenshots'] + list(steamTagData.columns[1:])]\n",
    "\n",
    "# Elimina los duplicados\n",
    "steamGames = steamGames.drop_duplicates(subset='appid')\n",
    "\n",
    "# Ordenar por el campo 'name' (nombre del videojuego)\n",
    "steamGames = steamGames.sort_values(by='name', ascending=True)\n",
    "\n",
    "# Exportar el resultado a un archivo CSV\n",
    "steamGames.to_csv(\"./data/steam_data.csv\", index=False)\n",
    "\n",
    "print(\"Fusión completada con etiquetas. Archivo exportado como 'steam_data.csv'\")\n"
   ]
  }
 ],
 "metadata": {
  "kernelspec": {
   "display_name": ".venv",
   "language": "python",
   "name": "python3"
  },
  "language_info": {
   "codemirror_mode": {
    "name": "ipython",
    "version": 3
   },
   "file_extension": ".py",
   "mimetype": "text/x-python",
   "name": "python",
   "nbconvert_exporter": "python",
   "pygments_lexer": "ipython3",
   "version": "3.13.0"
  }
 },
 "nbformat": 4,
 "nbformat_minor": 2
}
