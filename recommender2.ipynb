{
 "cells": [
  {
   "cell_type": "code",
   "execution_count": 1,
   "metadata": {},
   "outputs": [],
   "source": [
    "import pandas as pd"
   ]
  },
  {
   "cell_type": "code",
   "execution_count": 10,
   "metadata": {},
   "outputs": [],
   "source": [
    "## Carga los datos de los juegos de Steam\n",
    "steamGamesFile =\"./data/v2/steam_merged_data.csv\"\n",
    "\n",
    "steamGames = pd.read_csv(steamGamesFile)\n",
    "\n",
    "## Elimina los duplicados\n",
    "steamGames = steamGames.drop_duplicates(subset='appid')"
   ]
  },
  {
   "cell_type": "code",
   "execution_count": 17,
   "metadata": {},
   "outputs": [
    {
     "name": "stdout",
     "output_type": "stream",
     "text": [
      "<class 'pandas.core.frame.DataFrame'>\n",
      "RangeIndex: 27075 entries, 0 to 27074\n",
      "Data columns (total 6 columns):\n",
      " #   Column                Non-Null Count  Dtype \n",
      "---  ------                --------------  ----- \n",
      " 0   appid                 27075 non-null  int64 \n",
      " 1   name                  27075 non-null  object\n",
      " 2   categories            27075 non-null  object\n",
      " 3   detailed_description  27075 non-null  object\n",
      " 4   header_image          27075 non-null  object\n",
      " 5   screenshots           27075 non-null  object\n",
      "dtypes: int64(1), object(5)\n",
      "memory usage: 1.2+ MB\n"
     ]
    }
   ],
   "source": [
    "filteredSteamGames = steamGames[['appid', 'name', 'categories', 'detailed_description', 'header_image', 'screenshots']]\n",
    "filteredSteamGames.info()"
   ]
  },
  {
   "cell_type": "code",
   "execution_count": 23,
   "metadata": {},
   "outputs": [
    {
     "name": "stderr",
     "output_type": "stream",
     "text": [
      "[nltk_data] Downloading package punkt to\n",
      "[nltk_data]     C:\\Users\\pibbl\\AppData\\Roaming\\nltk_data...\n",
      "[nltk_data]   Package punkt is already up-to-date!\n",
      "[nltk_data] Downloading package stopwords to\n",
      "[nltk_data]     C:\\Users\\pibbl\\AppData\\Roaming\\nltk_data...\n",
      "[nltk_data]   Package stopwords is already up-to-date!\n",
      "[nltk_data] Downloading package punkt_tab to\n",
      "[nltk_data]     C:\\Users\\pibbl\\AppData\\Roaming\\nltk_data...\n",
      "[nltk_data]   Package punkt_tab is already up-to-date!\n",
      "C:\\Users\\pibbl\\AppData\\Local\\Temp\\ipykernel_20012\\87422503.py:27: SettingWithCopyWarning: \n",
      "A value is trying to be set on a copy of a slice from a DataFrame.\n",
      "Try using .loc[row_indexer,col_indexer] = value instead\n",
      "\n",
      "See the caveats in the documentation: https://pandas.pydata.org/pandas-docs/stable/user_guide/indexing.html#returning-a-view-versus-a-copy\n",
      "  processedSteamGames['processed_text'] = preprocessedText\n"
     ]
    },
    {
     "data": {
      "text/html": [
       "<div>\n",
       "<style scoped>\n",
       "    .dataframe tbody tr th:only-of-type {\n",
       "        vertical-align: middle;\n",
       "    }\n",
       "\n",
       "    .dataframe tbody tr th {\n",
       "        vertical-align: top;\n",
       "    }\n",
       "\n",
       "    .dataframe thead th {\n",
       "        text-align: right;\n",
       "    }\n",
       "</style>\n",
       "<table border=\"1\" class=\"dataframe\">\n",
       "  <thead>\n",
       "    <tr style=\"text-align: right;\">\n",
       "      <th></th>\n",
       "      <th>appid</th>\n",
       "      <th>name</th>\n",
       "      <th>categories</th>\n",
       "      <th>detailed_description</th>\n",
       "      <th>header_image</th>\n",
       "      <th>screenshots</th>\n",
       "      <th>processed_text</th>\n",
       "    </tr>\n",
       "  </thead>\n",
       "  <tbody>\n",
       "    <tr>\n",
       "      <th>0</th>\n",
       "      <td>10</td>\n",
       "      <td>Counter-Strike</td>\n",
       "      <td>Multi-player;Online Multi-Player;Local Multi-P...</td>\n",
       "      <td>Play the world's number 1 online action game. ...</td>\n",
       "      <td>https://steamcdn-a.akamaihd.net/steam/apps/10/...</td>\n",
       "      <td>[{'id': 0, 'path_thumbnail': 'https://steamcdn...</td>\n",
       "      <td>play world number 1 onlin action game engag in...</td>\n",
       "    </tr>\n",
       "    <tr>\n",
       "      <th>1</th>\n",
       "      <td>20</td>\n",
       "      <td>Team Fortress Classic</td>\n",
       "      <td>Multi-player;Online Multi-Player;Local Multi-P...</td>\n",
       "      <td>One of the most popular online action games of...</td>\n",
       "      <td>https://steamcdn-a.akamaihd.net/steam/apps/20/...</td>\n",
       "      <td>[{'id': 0, 'path_thumbnail': 'https://steamcdn...</td>\n",
       "      <td>one popular onlin action game time team fortre...</td>\n",
       "    </tr>\n",
       "    <tr>\n",
       "      <th>2</th>\n",
       "      <td>30</td>\n",
       "      <td>Day of Defeat</td>\n",
       "      <td>Multi-player;Valve Anti-Cheat enabled</td>\n",
       "      <td>Enlist in an intense brand of Axis vs. Allied ...</td>\n",
       "      <td>https://steamcdn-a.akamaihd.net/steam/apps/30/...</td>\n",
       "      <td>[{'id': 0, 'path_thumbnail': 'https://steamcdn...</td>\n",
       "      <td>enlist intens brand axi alli teamplay set wwii...</td>\n",
       "    </tr>\n",
       "    <tr>\n",
       "      <th>3</th>\n",
       "      <td>40</td>\n",
       "      <td>Deathmatch Classic</td>\n",
       "      <td>Multi-player;Online Multi-Player;Local Multi-P...</td>\n",
       "      <td>Enjoy fast-paced multiplayer gaming with Death...</td>\n",
       "      <td>https://steamcdn-a.akamaihd.net/steam/apps/40/...</td>\n",
       "      <td>[{'id': 0, 'path_thumbnail': 'https://steamcdn...</td>\n",
       "      <td>enjoy multiplay game deathmatch classic dmc va...</td>\n",
       "    </tr>\n",
       "    <tr>\n",
       "      <th>4</th>\n",
       "      <td>50</td>\n",
       "      <td>Half-Life: Opposing Force</td>\n",
       "      <td>Single-player;Multi-player;Valve Anti-Cheat en...</td>\n",
       "      <td>Return to the Black Mesa Research Facility as ...</td>\n",
       "      <td>https://steamcdn-a.akamaihd.net/steam/apps/50/...</td>\n",
       "      <td>[{'id': 0, 'path_thumbnail': 'https://steamcdn...</td>\n",
       "      <td>return black mesa research facil one militari ...</td>\n",
       "    </tr>\n",
       "    <tr>\n",
       "      <th>...</th>\n",
       "      <td>...</td>\n",
       "      <td>...</td>\n",
       "      <td>...</td>\n",
       "      <td>...</td>\n",
       "      <td>...</td>\n",
       "      <td>...</td>\n",
       "      <td>...</td>\n",
       "    </tr>\n",
       "    <tr>\n",
       "      <th>27070</th>\n",
       "      <td>1065230</td>\n",
       "      <td>Room of Pandora</td>\n",
       "      <td>Single-player;Steam Achievements</td>\n",
       "      <td>&lt;img src=\"https://steamcdn-a.akamaihd.net/stea...</td>\n",
       "      <td>https://steamcdn-a.akamaihd.net/steam/apps/106...</td>\n",
       "      <td>[{'id': 0, 'path_thumbnail': 'https://steamcdn...</td>\n",
       "      <td>img http br thi first indi game steam i play l...</td>\n",
       "    </tr>\n",
       "    <tr>\n",
       "      <th>27071</th>\n",
       "      <td>1065570</td>\n",
       "      <td>Cyber Gun</td>\n",
       "      <td>Single-player</td>\n",
       "      <td>Have you ever been so lonely that no one but y...</td>\n",
       "      <td>https://steamcdn-a.akamaihd.net/steam/apps/106...</td>\n",
       "      <td>[{'id': 0, 'path_thumbnail': 'https://steamcdn...</td>\n",
       "      <td>have ever lone one could save complet thi game...</td>\n",
       "    </tr>\n",
       "    <tr>\n",
       "      <th>27072</th>\n",
       "      <td>1065650</td>\n",
       "      <td>Super Star Blast</td>\n",
       "      <td>Single-player;Multi-player;Co-op;Shared/Split ...</td>\n",
       "      <td>&lt;strong&gt;Super Star Blast &lt;/strong&gt;is a space b...</td>\n",
       "      <td>https://steamcdn-a.akamaihd.net/steam/apps/106...</td>\n",
       "      <td>[{'id': 0, 'path_thumbnail': 'https://steamcdn...</td>\n",
       "      <td>strong super star blast space base game challe...</td>\n",
       "    </tr>\n",
       "    <tr>\n",
       "      <th>27073</th>\n",
       "      <td>1066700</td>\n",
       "      <td>New Yankee 7: Deer Hunters</td>\n",
       "      <td>Single-player;Steam Cloud</td>\n",
       "      <td>Pursue a snow-white deer through an enchanted ...</td>\n",
       "      <td>https://steamcdn-a.akamaihd.net/steam/apps/106...</td>\n",
       "      <td>[{'id': 0, 'path_thumbnail': 'https://steamcdn...</td>\n",
       "      <td>pursu deer enchant forest discov magic mysteri...</td>\n",
       "    </tr>\n",
       "    <tr>\n",
       "      <th>27074</th>\n",
       "      <td>1069460</td>\n",
       "      <td>Rune Lord</td>\n",
       "      <td>Single-player;Steam Cloud</td>\n",
       "      <td>A portal has opened and dark magic is pouring ...</td>\n",
       "      <td>https://steamcdn-a.akamaihd.net/steam/apps/106...</td>\n",
       "      <td>[{'id': 0, 'path_thumbnail': 'https://steamcdn...</td>\n",
       "      <td>a portal open dark magic pour onli close gatew...</td>\n",
       "    </tr>\n",
       "  </tbody>\n",
       "</table>\n",
       "<p>27075 rows × 7 columns</p>\n",
       "</div>"
      ],
      "text/plain": [
       "         appid                        name  \\\n",
       "0           10              Counter-Strike   \n",
       "1           20       Team Fortress Classic   \n",
       "2           30               Day of Defeat   \n",
       "3           40          Deathmatch Classic   \n",
       "4           50   Half-Life: Opposing Force   \n",
       "...        ...                         ...   \n",
       "27070  1065230             Room of Pandora   \n",
       "27071  1065570                   Cyber Gun   \n",
       "27072  1065650            Super Star Blast   \n",
       "27073  1066700  New Yankee 7: Deer Hunters   \n",
       "27074  1069460                   Rune Lord   \n",
       "\n",
       "                                              categories  \\\n",
       "0      Multi-player;Online Multi-Player;Local Multi-P...   \n",
       "1      Multi-player;Online Multi-Player;Local Multi-P...   \n",
       "2                  Multi-player;Valve Anti-Cheat enabled   \n",
       "3      Multi-player;Online Multi-Player;Local Multi-P...   \n",
       "4      Single-player;Multi-player;Valve Anti-Cheat en...   \n",
       "...                                                  ...   \n",
       "27070                   Single-player;Steam Achievements   \n",
       "27071                                      Single-player   \n",
       "27072  Single-player;Multi-player;Co-op;Shared/Split ...   \n",
       "27073                          Single-player;Steam Cloud   \n",
       "27074                          Single-player;Steam Cloud   \n",
       "\n",
       "                                    detailed_description  \\\n",
       "0      Play the world's number 1 online action game. ...   \n",
       "1      One of the most popular online action games of...   \n",
       "2      Enlist in an intense brand of Axis vs. Allied ...   \n",
       "3      Enjoy fast-paced multiplayer gaming with Death...   \n",
       "4      Return to the Black Mesa Research Facility as ...   \n",
       "...                                                  ...   \n",
       "27070  <img src=\"https://steamcdn-a.akamaihd.net/stea...   \n",
       "27071  Have you ever been so lonely that no one but y...   \n",
       "27072  <strong>Super Star Blast </strong>is a space b...   \n",
       "27073  Pursue a snow-white deer through an enchanted ...   \n",
       "27074  A portal has opened and dark magic is pouring ...   \n",
       "\n",
       "                                            header_image  \\\n",
       "0      https://steamcdn-a.akamaihd.net/steam/apps/10/...   \n",
       "1      https://steamcdn-a.akamaihd.net/steam/apps/20/...   \n",
       "2      https://steamcdn-a.akamaihd.net/steam/apps/30/...   \n",
       "3      https://steamcdn-a.akamaihd.net/steam/apps/40/...   \n",
       "4      https://steamcdn-a.akamaihd.net/steam/apps/50/...   \n",
       "...                                                  ...   \n",
       "27070  https://steamcdn-a.akamaihd.net/steam/apps/106...   \n",
       "27071  https://steamcdn-a.akamaihd.net/steam/apps/106...   \n",
       "27072  https://steamcdn-a.akamaihd.net/steam/apps/106...   \n",
       "27073  https://steamcdn-a.akamaihd.net/steam/apps/106...   \n",
       "27074  https://steamcdn-a.akamaihd.net/steam/apps/106...   \n",
       "\n",
       "                                             screenshots  \\\n",
       "0      [{'id': 0, 'path_thumbnail': 'https://steamcdn...   \n",
       "1      [{'id': 0, 'path_thumbnail': 'https://steamcdn...   \n",
       "2      [{'id': 0, 'path_thumbnail': 'https://steamcdn...   \n",
       "3      [{'id': 0, 'path_thumbnail': 'https://steamcdn...   \n",
       "4      [{'id': 0, 'path_thumbnail': 'https://steamcdn...   \n",
       "...                                                  ...   \n",
       "27070  [{'id': 0, 'path_thumbnail': 'https://steamcdn...   \n",
       "27071  [{'id': 0, 'path_thumbnail': 'https://steamcdn...   \n",
       "27072  [{'id': 0, 'path_thumbnail': 'https://steamcdn...   \n",
       "27073  [{'id': 0, 'path_thumbnail': 'https://steamcdn...   \n",
       "27074  [{'id': 0, 'path_thumbnail': 'https://steamcdn...   \n",
       "\n",
       "                                          processed_text  \n",
       "0      play world number 1 onlin action game engag in...  \n",
       "1      one popular onlin action game time team fortre...  \n",
       "2      enlist intens brand axi alli teamplay set wwii...  \n",
       "3      enjoy multiplay game deathmatch classic dmc va...  \n",
       "4      return black mesa research facil one militari ...  \n",
       "...                                                  ...  \n",
       "27070  img http br thi first indi game steam i play l...  \n",
       "27071  have ever lone one could save complet thi game...  \n",
       "27072  strong super star blast space base game challe...  \n",
       "27073  pursu deer enchant forest discov magic mysteri...  \n",
       "27074  a portal open dark magic pour onli close gatew...  \n",
       "\n",
       "[27075 rows x 7 columns]"
      ]
     },
     "execution_count": 23,
     "metadata": {},
     "output_type": "execute_result"
    }
   ],
   "source": [
    "from nltk.tokenize import word_tokenize \n",
    "from nltk.corpus import stopwords\n",
    "from nltk.stem import PorterStemmer\n",
    "\n",
    "import nltk\n",
    "nltk.download('punkt')\n",
    "nltk.download('stopwords')\n",
    "nltk.download('punkt_tab') \n",
    "##nltk.download()\n",
    "\n",
    "ps = PorterStemmer()\n",
    "\n",
    "preprocessedText = []\n",
    "\n",
    "for row in filteredSteamGames.itertuples():\n",
    "    \n",
    "    \n",
    "    text = word_tokenize(str(row[4])) ## indice de la columna que contiene el texto\n",
    "    ## Remove stop words\n",
    "    stops = set(stopwords.words(\"english\"))\n",
    "    text = [ps.stem(w) for w in text if not w in stops and w.isalnum()]\n",
    "    text = \" \".join(text)\n",
    "    \n",
    "    preprocessedText.append(text)\n",
    "\n",
    "processedSteamGames = filteredSteamGames\n",
    "processedSteamGames['processed_text'] = preprocessedText\n",
    "processedSteamGames\n",
    "processedSteamGames\n"
   ]
  },
  {
   "cell_type": "code",
   "execution_count": 31,
   "metadata": {},
   "outputs": [
    {
     "data": {
      "text/plain": [
       "appid                                                               32650\n",
       "name                                       Delta Force: Task Force Dagger\n",
       "categories                                     Single-player;Multi-player\n",
       "detailed_description    As the US army's elite special operations sold...\n",
       "header_image            https://steamcdn-a.akamaihd.net/steam/apps/326...\n",
       "screenshots             [{'id': 0, 'path_thumbnail': 'https://steamcdn...\n",
       "processed_text          as us armi elit special oper soldier potent we...\n",
       "Name: 606, dtype: object"
      ]
     },
     "execution_count": 31,
     "metadata": {},
     "output_type": "execute_result"
    }
   ],
   "source": [
    "processedSteamGames.iloc[606]"
   ]
  },
  {
   "cell_type": "code",
   "execution_count": 25,
   "metadata": {},
   "outputs": [
    {
     "name": "stdout",
     "output_type": "stream",
     "text": [
      "Finished\n"
     ]
    }
   ],
   "source": [
    "from sklearn.feature_extraction.text import TfidfVectorizer\n",
    "\n",
    "bagOfWordsModel = TfidfVectorizer()\n",
    "bagOfWordsModel.fit(processedSteamGames['processed_text'])\n",
    "textsBoW= bagOfWordsModel.transform(processedSteamGames['processed_text'])\n",
    "print(\"Finished\")"
   ]
  },
  {
   "cell_type": "code",
   "execution_count": 26,
   "metadata": {},
   "outputs": [
    {
     "data": {
      "text/plain": [
       "(27075, 64264)"
      ]
     },
     "execution_count": 26,
     "metadata": {},
     "output_type": "execute_result"
    }
   ],
   "source": [
    "textsBoW.shape"
   ]
  },
  {
   "cell_type": "code",
   "execution_count": 27,
   "metadata": {},
   "outputs": [
    {
     "name": "stdout",
     "output_type": "stream",
     "text": [
      "<Compressed Sparse Row sparse matrix of dtype 'float64'\n",
      "\twith 2655102 stored elements and shape (27075, 64264)>\n",
      "  Coords\tValues\n",
      "  (0, 2417)\t0.10071277209735648\n",
      "  (0, 2731)\t0.3278505365433556\n",
      "  (0, 3400)\t0.166693544794359\n",
      "  (0, 8499)\t0.17104309719451224\n",
      "  (0, 11969)\t0.10026419485347585\n",
      "  (0, 17549)\t0.08682586073551714\n",
      "  (0, 17573)\t0.15053021751590404\n",
      "  (0, 21236)\t0.09305072497964885\n",
      "  (0, 25470)\t0.2460596622001187\n",
      "  (0, 26583)\t0.16078558075910224\n",
      "  (0, 34912)\t0.11996166769222771\n",
      "  (0, 37950)\t0.13816688316132286\n",
      "  (0, 38591)\t0.1216036177300021\n",
      "  (0, 41144)\t0.06766634177533142\n",
      "  (0, 41576)\t0.16999650615427964\n",
      "  (0, 43665)\t0.14536356113373342\n",
      "  (0, 44430)\t0.16697748570764726\n",
      "  (0, 45279)\t0.2847622745195356\n",
      "  (0, 48566)\t0.20266672023050855\n",
      "  (0, 51161)\t0.14954303615187645\n",
      "  (0, 51520)\t0.30321428493253416\n",
      "  (0, 52535)\t0.07999450060458972\n",
      "  (0, 52915)\t0.23667955003701432\n",
      "  (0, 52925)\t0.2206709325303231\n",
      "  (0, 53284)\t0.22999390190831098\n",
      "  :\t:\n",
      "  (27074, 41753)\t0.04234004956455002\n",
      "  (27074, 41867)\t0.09079018378185502\n",
      "  (27074, 42637)\t0.06987363512788691\n",
      "  (27074, 44253)\t0.0876815880122665\n",
      "  (27074, 45719)\t0.3150511943596456\n",
      "  (27074, 46493)\t0.050816367928297704\n",
      "  (27074, 46852)\t0.12487844775991123\n",
      "  (27074, 46890)\t0.06648155868323678\n",
      "  (27074, 47091)\t0.06769880938277965\n",
      "  (27074, 48058)\t0.0686878411113357\n",
      "  (27074, 49930)\t0.05027126681253864\n",
      "  (27074, 49948)\t0.09127020901474334\n",
      "  (27074, 50011)\t0.3586324170352152\n",
      "  (27074, 51341)\t0.14846862912589345\n",
      "  (27074, 52439)\t0.09358871732978209\n",
      "  (27074, 52796)\t0.06458797548078285\n",
      "  (27074, 53660)\t0.05575009698940667\n",
      "  (27074, 53884)\t0.06947710113120793\n",
      "  (27074, 56206)\t0.0790289363753122\n",
      "  (27074, 56518)\t0.05352300508333128\n",
      "  (27074, 58424)\t0.06976904963471707\n",
      "  (27074, 58614)\t0.05272751868596404\n",
      "  (27074, 58887)\t0.10429232492200807\n",
      "  (27074, 59160)\t0.05215357582932582\n",
      "  (27074, 59398)\t0.03268093480684798\n"
     ]
    }
   ],
   "source": [
    "print(textsBoW)"
   ]
  },
  {
   "cell_type": "code",
   "execution_count": 28,
   "metadata": {},
   "outputs": [
    {
     "data": {
      "text/plain": [
       "array(['00', '000', '001', ..., '𝔻𝕖𝕝𝕦𝕩', '𝕋𝕦𝕣𝕓𝕠', '𝕷𝖊𝖎𝖙𝖔𝖘𝖔'], dtype=object)"
      ]
     },
     "execution_count": 28,
     "metadata": {},
     "output_type": "execute_result"
    }
   ],
   "source": [
    "bagOfWordsModel.get_feature_names_out()"
   ]
  },
  {
   "cell_type": "code",
   "execution_count": 29,
   "metadata": {},
   "outputs": [],
   "source": [
    "from sklearn.metrics import pairwise_distances\n",
    "\n",
    "distance_matrix= pairwise_distances(textsBoW, metric='cosine')"
   ]
  },
  {
   "cell_type": "code",
   "execution_count": 30,
   "metadata": {},
   "outputs": [
    {
     "name": "stdout",
     "output_type": "stream",
     "text": [
      "(27075, 27075)\n",
      "<class 'numpy.ndarray'>\n"
     ]
    }
   ],
   "source": [
    "print(distance_matrix.shape)\n",
    "print(type(distance_matrix))"
   ]
  },
  {
   "cell_type": "code",
   "execution_count": 38,
   "metadata": {},
   "outputs": [
    {
     "data": {
      "text/plain": [
       "np.int64(606)"
      ]
     },
     "execution_count": 38,
     "metadata": {},
     "output_type": "execute_result"
    }
   ],
   "source": [
    "searchTitle = processedSteamGames.iloc[606]['name']\n",
    "##searchTitle = \"Call of Duty®: Black Ops II\" \n",
    "indexOfTitle = processedSteamGames[processedSteamGames['name']==searchTitle].index.values[0]\n",
    "indexOfTitle"
   ]
  },
  {
   "cell_type": "code",
   "execution_count": 39,
   "metadata": {},
   "outputs": [
    {
     "data": {
      "text/plain": [
       "607                            Delta Force: Xtreme\n",
       "1374                        Conflict Desert Storm™\n",
       "608                   Delta Force: Black Hawk Down\n",
       "10483                      Elite Warriors: Vietnam\n",
       "604                                  Delta Force 2\n",
       "7403                             Elite vs. Freedom\n",
       "7356                       Rising Storm 2: Vietnam\n",
       "609      Delta Force — Black Hawk Down: Team Sabre\n",
       "2819                       Shadow Ops: Red Mercury\n",
       "5759                                Second Warfare\n",
       "Name: name, dtype: object"
      ]
     },
     "execution_count": 39,
     "metadata": {},
     "output_type": "execute_result"
    }
   ],
   "source": [
    "distance_scores = list(enumerate(distance_matrix[indexOfTitle]))\n",
    "ordered_scores = sorted(distance_scores, key=lambda x: x[1])\n",
    "top_scores = ordered_scores[1:11]\n",
    "top_indexes = [i[0] for i in top_scores]\n",
    "processedSteamGames['name'].iloc[top_indexes]"
   ]
  }
 ],
 "metadata": {
  "kernelspec": {
   "display_name": ".venv",
   "language": "python",
   "name": "python3"
  },
  "language_info": {
   "codemirror_mode": {
    "name": "ipython",
    "version": 3
   },
   "file_extension": ".py",
   "mimetype": "text/x-python",
   "name": "python",
   "nbconvert_exporter": "python",
   "pygments_lexer": "ipython3",
   "version": "3.13.0"
  }
 },
 "nbformat": 4,
 "nbformat_minor": 2
}
