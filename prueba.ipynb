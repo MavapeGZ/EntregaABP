{
 "cells": [
  {
   "cell_type": "code",
   "execution_count": 1,
   "metadata": {},
   "outputs": [
    {
     "name": "stdout",
     "output_type": "stream",
     "text": [
      "Fusión completada. Archivo exportado como 'merged_steam_data.csv'\n"
     ]
    }
   ],
   "source": [
    "import pandas as pd\n",
    "\n",
    "# Rutas de los archivos\n",
    "steamGamesFile = \"./data/v2/steam.csv\"\n",
    "steamGamesDescriptionFile = \"./data/v2/steam_description_data.csv\"\n",
    "steamGamesImagesFile = \"./data/v2/steam_media_data.csv\"\n",
    "\n",
    "# Cargar los datos\n",
    "steamGames = pd.read_csv(steamGamesFile)\n",
    "steamGamesDescription = pd.read_csv(steamGamesDescriptionFile)\n",
    "steamGamesImages = pd.read_csv(steamGamesImagesFile)\n",
    "\n",
    "# Eliminar duplicados\n",
    "steamGames = steamGames.drop_duplicates(subset='appid')\n",
    "steamGamesDescription = steamGamesDescription.drop_duplicates(subset='steam_appid')\n",
    "steamGamesImages = steamGamesImages.drop_duplicates(subset='steam_appid')\n",
    "\n",
    "# Renombrar claves para alinearlas\n",
    "steamGamesDescription = steamGamesDescription.rename(columns={'steam_appid': 'appid'})\n",
    "steamGamesImages = steamGamesImages.rename(columns={'steam_appid': 'appid'})\n",
    "\n",
    "# Fusionar los datos\n",
    "merged_data = steamGames.merge(steamGamesDescription, on='appid', how='inner')\n",
    "merged_data = merged_data.merge(steamGamesImages, on='appid', how='inner')\n",
    "\n",
    "# Exportar el resultado a un archivo CSV\n",
    "merged_data.to_csv(\"steam_merged_data.csv\", index=False)\n",
    "\n",
    "print(\"Fusión completada. Archivo exportado como 'merged_steam_data.csv'\")"
   ]
  }
 ],
 "metadata": {
  "kernelspec": {
   "display_name": ".venv",
   "language": "python",
   "name": "python3"
  },
  "language_info": {
   "codemirror_mode": {
    "name": "ipython",
    "version": 3
   },
   "file_extension": ".py",
   "mimetype": "text/x-python",
   "name": "python",
   "nbconvert_exporter": "python",
   "pygments_lexer": "ipython3",
   "version": "3.13.0"
  }
 },
 "nbformat": 4,
 "nbformat_minor": 2
}
